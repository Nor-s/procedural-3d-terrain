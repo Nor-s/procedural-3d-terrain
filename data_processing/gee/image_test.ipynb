{
 "cells": [
  {
   "cell_type": "code",
   "execution_count": 1,
   "metadata": {},
   "outputs": [],
   "source": [
    "import numpy as np\n",
    "from PIL import Image\n",
    "import os\n",
    "import glob\n",
    "from PIL import Image, ImageOps"
   ]
  },
  {
   "cell_type": "markdown",
   "metadata": {},
   "source": [
    "# merge"
   ]
  },
  {
   "cell_type": "code",
   "execution_count": 4,
   "metadata": {},
   "outputs": [],
   "source": [
    "import numpy as np\n",
    "from PIL import Image\n",
    "import os\n",
    "import glob\n",
    "from PIL import Image, ImageOps\n",
    "path = 'data/terrarian'\n",
    "\n",
    "if not os.path.exists(path + '/rgba'):\n",
    "    os.makedirs(path + '/rgba')\n",
    "\n",
    "sat_files = glob.glob(path + '/sat/*.png')\n",
    "dem_files = glob.glob(path + '/dem/*.png')\n",
    "\n"
   ]
  },
  {
   "cell_type": "code",
   "execution_count": 5,
   "metadata": {},
   "outputs": [
    {
     "name": "stdout",
     "output_type": "stream",
     "text": [
      "5000 5000\n"
     ]
    }
   ],
   "source": [
    "print(len(sat_files), len(dem_files))"
   ]
  },
  {
   "cell_type": "code",
   "execution_count": 6,
   "metadata": {},
   "outputs": [],
   "source": [
    "for idx in range(len(sat_files)):\n",
    "    sat_img = Image.open(sat_files[idx])\n",
    "    sat_img = sat_img.convert(\"RGBA\")\n",
    "    sat_arr = np.array(sat_img)\n",
    "\n",
    "    gray_img = Image.open(dem_files[idx])\n",
    "    gray_img = ImageOps.grayscale(gray_img)\n",
    "    gray_arr = np.array(gray_img)\n",
    "\n",
    "    for row in range(sat_arr.shape[0]):\n",
    "        for col in range(sat_arr.shape[1]):\n",
    "            sat_arr[row][col][3] = gray_arr[row][col]\n",
    "    \n",
    "    im = Image.fromarray(sat_arr)\n",
    "    im.save(f'{path}/rgba/{idx:05d}.png')"
   ]
  },
  {
   "cell_type": "markdown",
   "metadata": {},
   "source": [
    "# extract"
   ]
  },
  {
   "cell_type": "code",
   "execution_count": 13,
   "metadata": {},
   "outputs": [],
   "source": [
    "# rgba_img = Image.open(f'{path}/rgba/00001.png')\n",
    "from PIL import Image, ImageOps\n",
    "import numpy as np\n",
    "\n",
    "rgba_img = Image.open(f'gen_5_36_1024.png')\n",
    "\n",
    "gray_img  = ImageOps.grayscale(rgba_img)\n",
    "\n",
    "rgba_arr = np.array(rgba_img)\n",
    "\n",
    "gray_arr = np.array(gray_img)\n",
    "\n",
    "for row in range(rgba_arr.shape[0]):\n",
    "    for col in range(rgba_arr.shape[1]):\n",
    "        gray_arr[row][col] = rgba_arr[row][col][3]\n",
    "        rgba_arr[row][col][3] = 1\n",
    "\n",
    "im = Image.fromarray(gray_arr)\n",
    "im.save('dem.png')\n",
    "im = Image.fromarray(rgba_arr)\n",
    "im = im.convert('RGB')\n",
    "im.save('sat.png')\n"
   ]
  },
  {
   "cell_type": "markdown",
   "metadata": {},
   "source": [
    "# Delete SEA"
   ]
  },
  {
   "cell_type": "code",
   "execution_count": 3,
   "metadata": {},
   "outputs": [],
   "source": [
    "name = 'Ursus_arctos_Linnaeus'\n",
    "path = f'data/{name}/512'\n",
    "sat_files = glob.glob(path + '/sat/*.png')\n",
    "dem_files = glob.glob(path + '/alos/*.png')"
   ]
  },
  {
   "cell_type": "code",
   "execution_count": 4,
   "metadata": {},
   "outputs": [
    {
     "name": "stdout",
     "output_type": "stream",
     "text": [
      "6093 6093\n"
     ]
    }
   ],
   "source": [
    "print(len(sat_files), len(dem_files))"
   ]
  },
  {
   "cell_type": "code",
   "execution_count": 5,
   "metadata": {},
   "outputs": [],
   "source": [
    "if not os.path.exists(path + '/rgba'):\n",
    "    os.makedirs(path + '/rgba')"
   ]
  },
  {
   "cell_type": "code",
   "execution_count": 6,
   "metadata": {},
   "outputs": [
    {
     "name": "stdout",
     "output_type": "stream",
     "text": [
      "6093\n"
     ]
    }
   ],
   "source": [
    "import json\n",
    "\n",
    "file_path = f'{path}/{name}.json'\n",
    "with open(file_path, \"r\") as fp:\n",
    "    json_data = json.load(fp)\n",
    "print(json_data[\"count\"])\n"
   ]
  },
  {
   "cell_type": "code",
   "execution_count": 7,
   "metadata": {},
   "outputs": [
    {
     "name": "stdout",
     "output_type": "stream",
     "text": [
      "skip:  4604\n",
      "skip:  4605\n",
      "skip:  4606\n",
      "skip:  4607\n",
      "skip:  4608\n",
      "skip:  4609\n",
      "skip:  4611\n",
      "skip:  4612\n",
      "skip:  4613\n",
      "skip:  4615\n",
      "skip:  4616\n",
      "skip:  4617\n",
      "skip:  4618\n",
      "skip:  4619\n",
      "skip:  4620\n",
      "skip:  4621\n",
      "skip:  4622\n",
      "skip:  4623\n",
      "skip:  4624\n",
      "skip:  4625\n",
      "skip:  4626\n",
      "skip:  4627\n",
      "skip:  4628\n",
      "skip:  4629\n",
      "skip:  4630\n",
      "skip:  4631\n",
      "skip:  4632\n",
      "skip:  4633\n",
      "skip:  4634\n",
      "skip:  4635\n",
      "skip:  4636\n",
      "skip:  4637\n",
      "skip:  4638\n",
      "skip:  4639\n",
      "skip:  4640\n",
      "skip:  4641\n",
      "skip:  4642\n",
      "skip:  4643\n",
      "skip:  4644\n",
      "skip:  4645\n",
      "skip:  4646\n",
      "skip:  4647\n",
      "skip:  4648\n",
      "skip:  4649\n",
      "skip:  4650\n",
      "skip:  4651\n",
      "skip:  4652\n",
      "skip:  4653\n",
      "skip:  4654\n",
      "skip:  4655\n",
      "skip:  4656\n",
      "skip:  4657\n",
      "skip:  4658\n",
      "skip:  4659\n",
      "skip:  4660\n",
      "skip:  4661\n",
      "skip:  4662\n",
      "skip:  4663\n",
      "skip:  4664\n",
      "skip:  4665\n",
      "skip:  4666\n",
      "skip:  4667\n",
      "skip:  4668\n",
      "skip:  4669\n",
      "skip:  4670\n",
      "skip:  4671\n",
      "skip:  4672\n",
      "skip:  4673\n",
      "skip:  4674\n",
      "skip:  4675\n",
      "skip:  4676\n",
      "skip:  4677\n",
      "skip:  4678\n",
      "skip:  4679\n",
      "skip:  4680\n",
      "skip:  4681\n",
      "skip:  4682\n",
      "skip:  4683\n",
      "skip:  4684\n",
      "skip:  4685\n",
      "skip:  4686\n",
      "skip:  4687\n",
      "skip:  4688\n",
      "skip:  4689\n",
      "skip:  4690\n",
      "skip:  4691\n",
      "skip:  4692\n",
      "skip:  4693\n",
      "skip:  4694\n",
      "skip:  4695\n",
      "skip:  4696\n",
      "skip:  4697\n",
      "skip:  4698\n",
      "skip:  4699\n",
      "skip:  4700\n",
      "skip:  4701\n",
      "skip:  4702\n",
      "skip:  4703\n",
      "skip:  4704\n",
      "skip:  4705\n",
      "skip:  4706\n",
      "skip:  4707\n",
      "skip:  4708\n",
      "skip:  4709\n",
      "skip:  4710\n",
      "skip:  4711\n",
      "skip:  4712\n",
      "skip:  4713\n",
      "skip:  4714\n",
      "skip:  4715\n",
      "skip:  4716\n",
      "skip:  4717\n",
      "skip:  4718\n",
      "skip:  4719\n",
      "skip:  4720\n",
      "skip:  4721\n",
      "skip:  4722\n",
      "skip:  4723\n",
      "skip:  4724\n",
      "skip:  4725\n",
      "skip:  4726\n",
      "skip:  4727\n",
      "skip:  4728\n",
      "skip:  4729\n",
      "skip:  4730\n",
      "skip:  4731\n",
      "skip:  4732\n",
      "skip:  4733\n",
      "skip:  4734\n",
      "skip:  4735\n",
      "skip:  4736\n",
      "skip:  4737\n",
      "skip:  4738\n",
      "skip:  4739\n",
      "skip:  4740\n",
      "skip:  4741\n",
      "skip:  4742\n",
      "5956\n"
     ]
    }
   ],
   "source": [
    "count = 0\n",
    "\n",
    "data = {\n",
    "    \"count\": 0 ,\n",
    "    \"lon\":[],\n",
    "    \"lat\":[],\n",
    "    \"idx\":[]\n",
    "}\n",
    "min_sum = 10000\n",
    "min_max = 25\n",
    "\n",
    "for idx in range(len(sat_files)):\n",
    "    sat_img = Image.open(sat_files[idx])\n",
    "    sat_img = sat_img.convert(\"RGBA\")\n",
    "    sat_arr = np.array(sat_img)\n",
    "\n",
    "    gray_img = Image.open(dem_files[idx])\n",
    "    gray_img = ImageOps.grayscale(gray_img)\n",
    "    gray_arr = np.array(gray_img)\n",
    "    \n",
    "    sum_result = np.sum(gray_arr)\n",
    "    if sum_result <= min_sum or np.max(gray_arr) <= min_max :\n",
    "        print(\"skip: \", idx)\n",
    "        continue        \n",
    "\n",
    "    for row in range(sat_arr.shape[0]):\n",
    "        for col in range(sat_arr.shape[1]):\n",
    "            sat_arr[row][col][3] = gray_arr[row][col]\n",
    "    im = Image.fromarray(sat_arr)\n",
    "    im.save(f'{path}/rgba/{count:05d}.png')\n",
    "    data['idx'].append(idx)\n",
    "    data['lon'].append(json_data['lon'][idx])\n",
    "    data['lat'].append(json_data['lat'][idx])\n",
    "    count+=1\n",
    "data['count'] = count\n",
    "print(count)"
   ]
  },
  {
   "cell_type": "code",
   "execution_count": 8,
   "metadata": {},
   "outputs": [],
   "source": [
    "with open(f'{path}/rgba/{name}.json', 'w') as outfile:\n",
    "    json.dump(data, outfile, indent=4)"
   ]
  },
  {
   "cell_type": "code",
   "execution_count": 3,
   "metadata": {},
   "outputs": [
    {
     "name": "stdout",
     "output_type": "stream",
     "text": [
      "5111\n"
     ]
    }
   ],
   "source": [
    "import image_process as ip\n",
    "\n",
    "# name = 'Ursus_arctos_Linnaeus'\n",
    "# name = 'Theropithecus_gelada'\n",
    "# name = \"Camel\"\n",
    "name = 'Yucca_brevifolia'\n",
    "path = f'data/{name}/256'\n",
    "sat_files = f'{path}/sat/*.png'\n",
    "dem_files = f'{path}/alos/*.png'\n",
    "json_path = f'{path}/{name}.json'\n",
    "\n",
    "image_process = ip.ImageProcess(json_path=json_path, \n",
    "                                save_path=f'{path}/rgbaa', \n",
    "                                rgb_path=sat_files,\n",
    "                                 gray_path=dem_files)\n",
    "# image_process.black_threshold = 2\n",
    "# image_process.sum_threshold = 5000\n",
    "image_process.start_merge_without_sea()"
   ]
  }
 ],
 "metadata": {
  "interpreter": {
   "hash": "af8e2bc38c47ad2eb2801b8a1df8ba266ffc32d6dc21ae3dca26080e3882f8b5"
  },
  "kernelspec": {
   "display_name": "Python 3.8.11 ('base')",
   "language": "python",
   "name": "python3"
  },
  "language_info": {
   "codemirror_mode": {
    "name": "ipython",
    "version": 3
   },
   "file_extension": ".py",
   "mimetype": "text/x-python",
   "name": "python",
   "nbconvert_exporter": "python",
   "pygments_lexer": "ipython3",
   "version": "3.8.11"
  },
  "orig_nbformat": 4,
  "vscode": {
   "interpreter": {
    "hash": "78bdb2dcac2d744d0c30d0eaa331d55fe59e60d95f25fb3dacd42cea4b1d7e89"
   }
  }
 },
 "nbformat": 4,
 "nbformat_minor": 2
}
