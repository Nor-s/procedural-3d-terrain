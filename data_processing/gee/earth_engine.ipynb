{
 "cells": [
  {
   "cell_type": "code",
   "execution_count": 2,
   "metadata": {},
   "outputs": [],
   "source": [
    "# import geemap\n",
    "from IPython.display import Image \n",
    "import shutil\n",
    "import requests\n",
    "import ee \n",
    "import rasterio\n",
    "from pylab import plt\n",
    "import rasterio.features\n",
    "import rasterio.warp\n",
    "import numpy as np\n",
    "import json\n",
    "from retry import retry\n",
    "import glob\n",
    "import ee_helper as eeh\n",
    "# \" !pip install earthengine-api --upgrade"
   ]
  },
  {
   "cell_type": "code",
   "execution_count": 3,
   "metadata": {},
   "outputs": [],
   "source": [
    "SIZE = 256\n",
    "\n",
    "# SPECIES_NAME = 'Ursus_arctos_Linnaeus'\n",
    "# SPECIES_NAME = 'Theropithecus_gelada'\n",
    "SPECIES_NAME = 'Yucca_brevifolia'\n",
    "# SPECIES_NAME = 'Camel'\n",
    "path = f'../../data/gee/{SPECIES_NAME}'\n",
    "tif_path = f'../../data/sdm/{SPECIES_NAME}_prediction'\n",
    "eeo = eeh.EEH(path +'/' +str(SIZE), size = SIZE)\n",
    "eeo.meters = 13000"
   ]
  },
  {
   "cell_type": "markdown",
   "metadata": {},
   "source": [
    "## LOAD SDM"
   ]
  },
  {
   "cell_type": "code",
   "execution_count": 4,
   "metadata": {},
   "outputs": [
    {
     "data": {
      "image/png": "[encoded data removed]",
      "text/plain": [
       "<Figure size 432x288 with 2 Axes>"
      ]
     },
     "metadata": {
      "needs_background": "light"
     },
     "output_type": "display_data"
    }
   ],
   "source": [
    "src = rasterio.open( tif_path+\"/RF-IMAGES/probability_1.0.tif\")\n",
    "distr_rf = rasterio.open(tif_path + \"/RF-IMAGES/probability_1.0.tif\").read(1)\n",
    "distr_et = rasterio.open(tif_path + \"/ET-IMAGES/probability_1.0.tif\").read(1)\n",
    "distr_xgb =  rasterio.open(tif_path + \"/XGB-IMAGES/probability_1.0.tif\").read(1)\n",
    "distr_lgbm =  rasterio.open(tif_path + \"/LGBM-IMAGES/probability_1.0.tif\").read(1)\n",
    "src_averaged = (distr_rf + distr_et + distr_xgb + distr_lgbm)/4\n",
    "\n",
    "def plotit(x, title, cmap=\"Blues\"):\n",
    "    plt.imshow(x, cmap=cmap)\n",
    "    plt.colorbar()\n",
    "    plt.title(title, fontweight = 'bold')\n",
    "\n",
    "plotit(src_averaged, path, cmap=\"Greens\")"
   ]
  },
  {
   "cell_type": "code",
   "execution_count": 5,
   "metadata": {},
   "outputs": [
    {
     "name": "stdout",
     "output_type": "stream",
     "text": [
      "tif size: 2026 x 787\n",
      "5304\n",
      "5304\n"
     ]
    }
   ],
   "source": [
    "items = eeh.getPoints(path +'/' +str(SIZE) +'/' + SPECIES_NAME+ '.json', src_averaged, src, 0.80)\n",
    "indexes = [i for i in range(len(items))]\n",
    "print(len(indexes))\n",
    "save_path = []*len(indexes)\n",
    "parm = zip(indexes, items)"
   ]
  },
  {
   "cell_type": "markdown",
   "metadata": {},
   "source": [
    "## GET RGB, DEM"
   ]
  },
  {
   "cell_type": "code",
   "execution_count": 8,
   "metadata": {},
   "outputs": [],
   "source": [
    "eeo.workALOS(indexes, items)"
   ]
  },
  {
   "cell_type": "code",
   "execution_count": 9,
   "metadata": {},
   "outputs": [],
   "source": [
    "eeo.workSAT(indexes, items)"
   ]
  },
  {
   "cell_type": "markdown",
   "metadata": {},
   "source": [
    "## to RGBA"
   ]
  },
  {
   "cell_type": "code",
   "execution_count": null,
   "metadata": {},
   "outputs": [],
   "source": [
    "import image_process as ip\n",
    "\n",
    "# name = 'Ursus_arctos_Linnaeus'\n",
    "# name = 'Theropithecus_gelada'\n",
    "# name = \"Camel\"\n",
    "name = 'Yucca_brevifolia'\n",
    "path = f'data/{name}/256'\n",
    "sat_files = f'{path}/sat/*.png'\n",
    "dem_files = f'{path}/alos/*.png'\n",
    "json_path = f'{path}/{name}.json'\n",
    "\n",
    "image_process = ip.ImageProcess(json_path=json_path, \n",
    "                                save_path=f'{path}/rgbaa', \n",
    "                                rgb_path=sat_files,\n",
    "                                 gray_path=dem_files)\n",
    "# image_process.black_threshold = 2\n",
    "# image_process.sum_threshold = 5000\n",
    "image_process.start_merge_without_sea()"
   ]
  },
  {
   "cell_type": "markdown",
   "metadata": {},
   "source": [
    "## TEST"
   ]
  },
  {
   "cell_type": "code",
   "execution_count": 14,
   "metadata": {},
   "outputs": [
    {
     "name": "stdout",
     "output_type": "stream",
     "text": [
      "13.812500000000023 65.06250000000007\n"
     ]
    },
    {
     "data": {
      "text/html": [
       "<img src=\"https://earthengine-highvolume.googleapis.com/v1alpha/projects/earthengine-legacy/thumbnails/9eb405a5ad3f729396ee068a949a1ff4-a30ba5c8f51bcf630022f081b11436c3:getPixels\"/>"
      ],
      "text/plain": [
       "<IPython.core.display.Image object>"
      ]
     },
     "execution_count": 14,
     "metadata": {},
     "output_type": "execute_result"
    }
   ],
   "source": [
    "\n",
    "RGB = ['B4', 'B3', 'B2']\n",
    "TRUE_RGB = ['TCI_R', 'TCI_G', 'TCI_B']\n",
    "\n",
    "# idx =293\n",
    "# idx = 833\n",
    "# idx = 1008\n",
    "# idx = 1123\n",
    "idx = 1319\n",
    "# idx  = 1512 # cloud\n",
    "# idx = 698\n",
    "# idx = 1164\n",
    "# idx = 1462\n",
    "# idx = 1558\n",
    "# idx = 1577\n",
    "# idx = 1619\n",
    "# idx = 1669\n",
    "# idx = 1824\n",
    "# idx = 4032\n",
    "# idx = 4218\n",
    "# idx = 4345\n",
    "# idx = 4385\n",
    "# idx = 4479\n",
    "# idx = 4641\n",
    "# idx = 4643\n",
    "# idx = 4645\n",
    "# idx = 4651\n",
    "# idx = 4654\n",
    "# idx = 4772\n",
    "# idx = 4875   # cloud 8\n",
    "# idx = 4987\n",
    "# idx = 5134\n",
    "# idx = 5147\n",
    "# idx = 5184\n",
    "\n",
    "# idx = 5202   # cloud 8 10\n",
    "idx = 5# cloud\n",
    "# idx = 5214 # cloud\n",
    "# idx = 5179\n",
    "# idx= 5202\n",
    "\n",
    "u_lon = items[idx][0]\n",
    "u_lat = items[idx][1]\n",
    "print(u_lon, u_lat)\n",
    "u_poi = ee.Geometry.Point(u_lon, u_lat)\n",
    "lyon = u_poi.buffer(13000)  # meters\n",
    "image= (ee.ImageCollection(\"COPERNICUS/S2_SR\")\n",
    "                    .filterBounds(lyon.bounds())  \n",
    "                    # .filterDate('2019-11-15', '2019-12-15')\n",
    "\n",
    "                     .filter(ee.Filter.calendarRange(2017, 2019,  'year'))\n",
    "                    .filter(ee.Filter.calendarRange(6, 10, 'month'))\n",
    "                     .filter(ee.Filter.lt('CLOUDY_PIXEL_PERCENTAGE',15))\n",
    "                    .select(RGB)                        \n",
    "                    .median()\n",
    "                    )\n",
    "minn = 0     # math.floor( np.amax(np.array(mymin)))\n",
    "maxx = 4000  #\n",
    "\n",
    "\n",
    "url = image.getThumbURL({\n",
    "              'bands': RGB,\n",
    "              'min': [minn, minn, minn], \n",
    "              'max': [maxx, maxx, maxx],\n",
    "              'gamma': 1    ,\n",
    "              'region': lyon.bounds(),\n",
    "              'crs': 'EPSG:4326',\n",
    "              'dimensions': [512, 512],\n",
    "              'bestEffort': True,\n",
    "              'format': 'png'})\n",
    "\n",
    "r = requests.get(url, stream=True)\n",
    "if r.status_code != 200:\n",
    "    print(\"failed to download\")\n",
    "\n",
    "filename = \"tmp.png\"\n",
    "with open(filename, \"wb\") as out_file:\n",
    "    shutil.copyfileobj(r.raw, out_file)\n",
    "Image(url=url)"
   ]
  }
 ],
 "metadata": {
  "interpreter": {
   "hash": "af8e2bc38c47ad2eb2801b8a1df8ba266ffc32d6dc21ae3dca26080e3882f8b5"
  },
  "kernelspec": {
   "display_name": "Python 3.8.11 ('base')",
   "language": "python",
   "name": "python3"
  },
  "language_info": {
   "codemirror_mode": {
    "name": "ipython",
    "version": 3
   },
   "file_extension": ".py",
   "mimetype": "text/x-python",
   "name": "python",
   "nbconvert_exporter": "python",
   "pygments_lexer": "ipython3",
   "version": "3.8.11"
  },
  "orig_nbformat": 4,
  "vscode": {
   "interpreter": {
    "hash": "78bdb2dcac2d744d0c30d0eaa331d55fe59e60d95f25fb3dacd42cea4b1d7e89"
   }
  }
 },
 "nbformat": 4,
 "nbformat_minor": 2
}
