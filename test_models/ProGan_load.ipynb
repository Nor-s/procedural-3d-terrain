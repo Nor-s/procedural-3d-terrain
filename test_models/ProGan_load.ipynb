{
 "cells": [
  {
   "cell_type": "code",
   "execution_count": 2,
   "metadata": {},
   "outputs": [],
   "source": [
    "from progan import ProGAN\n",
    "import torch as th\n",
    "\n",
    "START_DEPTH = 6\n",
    "latent_size = 256\n",
    "depth = 7\n",
    "device = th.device('cuda:0') if th.cuda.is_available() else th.device('cpu')\n",
    "name = 'Ursus_arctos_Linnaeus'\n",
    "\n",
    "log_dir =    f'./output/{name}/logs/'\n",
    "sample_dir = f'./output/{name}/samples/'\n",
    "save_dir =   f'./output/{name}/models/'\n",
    "pro_gan = ProGAN(depth=depth, latent_size=latent_size, device=device)\n",
    "pro_gan.reload(start_depth=START_DEPTH, save_dir=save_dir)"
   ]
  },
  {
   "cell_type": "code",
   "execution_count": 25,
   "metadata": {},
   "outputs": [
    {
     "name": "stdout",
     "output_type": "stream",
     "text": [
      "<PIL.Image.Image image mode=L size=256x256 at 0x27E781204C0>\n",
      "<PIL.Image.Image image mode=RGB size=256x256 at 0x27E76F6E440>\n"
     ]
    }
   ],
   "source": [
    "import numpy as np\n",
    "import torch as th\n",
    "\n",
    "\n",
    "sample =pro_gan.print(th.randn(1, latent_size).to(device), START_DEPTH, 1)\n",
    "from torchvision.utils import save_image\n",
    "save_image(sample, 'tmp.png', nrow=int(np.sqrt(len(sample))),\n",
    "                   normalize=True, scale_each=True)\n",
    "from PIL import Image\n",
    "rgba_img = Image.open('tmp.png')\n",
    "\n",
    "gray_img  = rgba_img.convert(\"L\")\n",
    "\n",
    "rgba_arr = np.array(rgba_img)\n",
    "\n",
    "gray_arr = np.array(gray_img)\n",
    "\n",
    "for row in range(rgba_arr.shape[0]):\n",
    "    for col in range(rgba_arr.shape[1]):\n",
    "        gray_arr[row][col] = rgba_arr[row][col][3]\n",
    "        rgba_arr[row][col][3] = 1\n",
    "\n",
    "im = Image.fromarray(gray_arr)\n",
    "print(im)\n",
    "im.save('dem.png')\n",
    "im = Image.fromarray(rgba_arr)\n",
    "im = im.convert('RGB')\n",
    "print(im)\n",
    "im.save('sat.png')"
   ]
  }
 ],
 "metadata": {
  "interpreter": {
   "hash": "0857cb0f6eaafc429a144dff2c8ec99ab87e307df337c6e8cac39982794126bb"
  },
  "kernelspec": {
   "display_name": "Python 3.10.4 ('pytorch')",
   "language": "python",
   "name": "python3"
  },
  "language_info": {
   "codemirror_mode": {
    "name": "ipython",
    "version": 3
   },
   "file_extension": ".py",
   "mimetype": "text/x-python",
   "name": "python",
   "nbconvert_exporter": "python",
   "pygments_lexer": "ipython3",
   "version": "3.10.4"
  },
  "orig_nbformat": 4
 },
 "nbformat": 4,
 "nbformat_minor": 2
}
